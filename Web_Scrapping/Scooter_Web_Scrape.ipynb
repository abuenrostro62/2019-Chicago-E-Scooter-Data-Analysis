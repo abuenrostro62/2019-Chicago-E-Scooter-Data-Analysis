{
 "cells": [
  {
   "cell_type": "markdown",
   "metadata": {},
   "source": [
    "# Images"
   ]
  },
  {
   "cell_type": "code",
   "execution_count": 1,
   "metadata": {},
   "outputs": [],
   "source": [
    "# Dependencies\n",
    "from bs4 import BeautifulSoup\n",
    "import requests\n",
    "import pandas as pd\n",
    "from splinter import Browser"
   ]
  },
  {
   "cell_type": "code",
   "execution_count": 2,
   "metadata": {},
   "outputs": [],
   "source": [
    "executable_path = {'C:/Users/admin/HW/project2/Web_Scrapping': 'chromedriver.exe'}\n",
    "browser = Browser('chrome', 'C:/Users/admin/Anaconda3/Lib/site-packages/splinter', headless=False)"
   ]
  },
  {
   "cell_type": "code",
   "execution_count": 3,
   "metadata": {},
   "outputs": [],
   "source": [
    "# Master dictitonary for all variables\n",
    "scooter_dict = {}"
   ]
  },
  {
   "cell_type": "code",
   "execution_count": 4,
   "metadata": {},
   "outputs": [],
   "source": [
    "# URLs of pages to be scraped\n",
    "image_url = 'https://www.chicago.gov/city/en/depts/cdot/supp_info/escooter-share-pilot-project.html'"
   ]
  },
  {
   "cell_type": "code",
   "execution_count": 5,
   "metadata": {},
   "outputs": [],
   "source": [
    "# Visit image url\n",
    "browser.visit(image_url)\n",
    "\n",
    "# HTML object\n",
    "html = browser.html\n",
    "\n",
    "# Parse HTML with Beautiful Soup\n",
    "soup = BeautifulSoup(html, 'html.parser')"
   ]
  },
  {
   "cell_type": "code",
   "execution_count": 6,
   "metadata": {},
   "outputs": [
    {
     "data": {
      "text/plain": [
       "{'scooter_url': 'https://www.chicago.gov/content/dam/city/depts/cdot/Misc/EScooters/E-Scooter.PNG'}"
      ]
     },
     "execution_count": 6,
     "metadata": {},
     "output_type": "execute_result"
    }
   ],
   "source": [
    "# Retrieve all elements that contain featured image\n",
    "scooter = soup.find('div', class_='container-fluid page-full-description-above')\n",
    "# print(feature.a.img[\"src\"])\n",
    "\n",
    "scooter_href = scooter.p.img[\"src\"]\n",
    "# scooter_href\n",
    "\n",
    "scooter_url = ('https://www.chicago.gov' + scooter_href)\n",
    "# print(scooter_url)\n",
    "\n",
    "# paragraph = scooter.div.p.text\n",
    "# print(paragraph)\n",
    "\n",
    "# Add image to master dictionary\n",
    "scooter_dict['scooter_url']= scooter_url\n",
    "# scooter_dict['paragraph']= paragraph\n",
    "scooter_dict"
   ]
  },
  {
   "cell_type": "code",
   "execution_count": 7,
   "metadata": {},
   "outputs": [],
   "source": [
    "# URLs of pages to be scraped\n",
    "dos_donts_url = 'https://chi.streetsblog.org/2019/06/11/ready-or-not-10-different-scooter-companies-hit-the-streets-starting-saturday/'"
   ]
  },
  {
   "cell_type": "code",
   "execution_count": 8,
   "metadata": {},
   "outputs": [],
   "source": [
    "# Visit image url\n",
    "browser.visit(dos_donts_url)\n",
    "\n",
    "# HTML object\n",
    "html = browser.html\n",
    "\n",
    "# Parse HTML with Beautiful Soup\n",
    "soup = BeautifulSoup(html, 'html.parser')"
   ]
  },
  {
   "cell_type": "code",
   "execution_count": 9,
   "metadata": {},
   "outputs": [
    {
     "data": {
      "text/plain": [
       "'https://i1.wp.com/chi.streetsblog.org/wp-content/uploads/sites/4/2019/06/Screen-Shot-2019-06-11-at-3.16.09-PM.png?w=800&ssl=1'"
      ]
     },
     "execution_count": 9,
     "metadata": {},
     "output_type": "execute_result"
    }
   ],
   "source": [
    "# Retrieve all elements that contain Dos & Don'ts image\n",
    "\n",
    "dos_donts = soup.find('div', class_='entry-thumbnail')\n",
    "dos_donts\n",
    "\n",
    "dos_donts_href = dos_donts.picture.img[\"srcset\"]\n",
    "dos_donts_href\n",
    "\n",
    "# dos_donts_url = ('https://chi.streetsblog.org' + dos_donts_href)\n",
    "# # print(dos_donts_url)\n",
    "\n",
    "# # Add image to master dictionary\n",
    "# scooter_dict['dos_donts_url']= dos_donts_url\n",
    "# scooter_dict"
   ]
  },
  {
   "cell_type": "code",
   "execution_count": 10,
   "metadata": {},
   "outputs": [],
   "source": [
    "scooter_img_url ='https://www.consumerreports.org/product-safety/e-scooter-ride-share-industry-leaves-injuries-and-angered-cities-in-its-path/'\n",
    "\n",
    "# Visit image url\n",
    "browser.visit(scooter_img_url)\n",
    "\n",
    "# HTML object\n",
    "html = browser.html\n",
    "\n",
    "# Parse HTML with Beautiful Soup\n",
    "soup = BeautifulSoup(html, 'html.parser')"
   ]
  },
  {
   "cell_type": "code",
   "execution_count": 11,
   "metadata": {},
   "outputs": [
    {
     "data": {
      "text/plain": [
       "'https://www.consumerreports.org//article.images.consumerreports.org/f_auto/prod/content/dam/CRO%20Images%202019/Health/02Feb/CR-Health-Inlinehero-escooter-injuries-0219'"
      ]
     },
     "execution_count": 11,
     "metadata": {},
     "output_type": "execute_result"
    }
   ],
   "source": [
    "# Retrieve all elements that contain Dos & Don'ts image\n",
    "\n",
    "scoot = soup.find('img', class_='image')\n",
    "scoot\n",
    "\n",
    "scoot_href = scoot[\"src\"]\n",
    "scoot_href\n",
    "\n",
    "scoot_url = ('https://www.consumerreports.org' + scoot_href)\n",
    "scoot_url\n",
    "\n",
    "# dos_donts_url = ('https://chi.streetsblog.org' + dos_donts_href)\n",
    "# # print(dos_donts_url)\n",
    "\n",
    "# # Add image to master dictionary\n",
    "# scooter_dict['dos_donts_url']= dos_donts_url\n",
    "# scooter_dict"
   ]
  },
  {
   "cell_type": "code",
   "execution_count": 12,
   "metadata": {},
   "outputs": [],
   "source": [
    "rides_url = 'https://blockclubchicago.org/2019/07/12/7-scooter-companies-get-slapped-and-fined-by-city-for-not-living-up-to-contracts/'"
   ]
  },
  {
   "cell_type": "code",
   "execution_count": 13,
   "metadata": {},
   "outputs": [],
   "source": [
    "# Visit image url\n",
    "browser.visit(rides_url)\n",
    "\n",
    "# HTML object\n",
    "html = browser.html\n",
    "\n",
    "# Parse HTML with Beautiful Soup\n",
    "soup = BeautifulSoup(html, 'html.parser')"
   ]
  },
  {
   "cell_type": "code",
   "execution_count": 14,
   "metadata": {},
   "outputs": [
    {
     "data": {
      "text/plain": [
       "'https://blockclubchicago.org/wp-content/uploads/sites/5/2018/12/Screen-Shot-2018-12-17-at-10.39.44-AM.png?resize=2880,1620 2880w,https://blockclubchicago.org/wp-content/uploads/sites/5/2018/12/Screen-Shot-2018-12-17-at-10.39.44-AM.png?resize=1440,810 1440w,https://blockclubchicago.org/wp-content/uploads/sites/5/2018/12/Screen-Shot-2018-12-17-at-10.39.44-AM.png?resize=2432,1368 2432w,https://blockclubchicago.org/wp-content/uploads/sites/5/2018/12/Screen-Shot-2018-12-17-at-10.39.44-AM.png?resize=1216,684 1216w,https://blockclubchicago.org/wp-content/uploads/sites/5/2018/12/Screen-Shot-2018-12-17-at-10.39.44-AM.png?resize=1920,1080 1920w,https://blockclubchicago.org/wp-content/uploads/sites/5/2018/12/Screen-Shot-2018-12-17-at-10.39.44-AM.png?resize=960,540 960w,https://blockclubchicago.org/wp-content/uploads/sites/5/2018/12/Screen-Shot-2018-12-17-at-10.39.44-AM.png?resize=1536,864 1536w,https://blockclubchicago.org/wp-content/uploads/sites/5/2018/12/Screen-Shot-2018-12-17-at-10.39.44-AM.png?resize=768,432 768w,https://blockclubchicago.org/wp-content/uploads/sites/5/2018/12/Screen-Shot-2018-12-17-at-10.39.44-AM.png?resize=1024,576 1024w,https://blockclubchicago.org/wp-content/uploads/sites/5/2018/12/Screen-Shot-2018-12-17-at-10.39.44-AM.png?resize=512,288 512w'"
      ]
     },
     "execution_count": 14,
     "metadata": {},
     "output_type": "execute_result"
    }
   ],
   "source": [
    "# Retrieve all elements that contain Dos & Don'ts image\n",
    "\n",
    "rides = soup.find('span', class_='image__wrapper___3yPy4 image__wrapper image__intrinsic___kCRv1 image__intrinsic image__featured-image___1od9k image__featured-image')\n",
    "rides\n",
    "\n",
    "rides_href = rides.img[\"srcset\"]\n",
    "rides_href\n",
    "\n",
    "# dos_donts_url = ('https://chi.streetsblog.org' + dos_donts_href)\n",
    "# # print(dos_donts_url)\n",
    "\n",
    "# # Add image to master dictionary\n",
    "# scooter_dict['dos_donts_url']= dos_donts_url\n",
    "# scooter_dict"
   ]
  },
  {
   "cell_type": "code",
   "execution_count": 15,
   "metadata": {},
   "outputs": [],
   "source": [
    "chi_scooter_url = 'https://www.change.org/p/chicago-department-of-transportation-end-e-scooter-mayhem-in-chicago?source_location=petitions_browse'"
   ]
  },
  {
   "cell_type": "code",
   "execution_count": 16,
   "metadata": {},
   "outputs": [],
   "source": [
    "# Visit image url\n",
    "browser.visit(chi_scooter_url)\n",
    "\n",
    "# HTML object\n",
    "html = browser.html\n",
    "\n",
    "# Parse HTML with Beautiful Soup\n",
    "soup = BeautifulSoup(html, 'html.parser')"
   ]
  },
  {
   "cell_type": "code",
   "execution_count": null,
   "metadata": {},
   "outputs": [],
   "source": [
    "<div height=\"100%\" display=\"flex\" class=\"sc-kAzzGY fXMSrs\"><img src=\"//assets.change.org/photos/4/nh/rr/WCNhRRupALNcjVH-800x450-noPad.jpg?1560799871\" alt=\"\" class=\"sc-hSdWYo fwbkIi\"></div>"
   ]
  },
  {
   "cell_type": "code",
   "execution_count": 23,
   "metadata": {},
   "outputs": [
    {
     "data": {
      "text/plain": [
       "'http://assets.change.org/photos/4/nh/rr/WCNhRRupALNcjVH-800x450-noPad.jpg?1560799871'"
      ]
     },
     "execution_count": 23,
     "metadata": {},
     "output_type": "execute_result"
    }
   ],
   "source": [
    "# Retrieve all elements that contain Dos & Don'ts image\n",
    "\n",
    "chi_scooter = soup.find('img', class_='sc-hSdWYo fwbkIi')\n",
    "chi_scooter\n",
    "\n",
    "chi_href = chi_scooter[\"src\"]\n",
    "chi_href\n",
    "\n",
    "chi_img_url = (\"http:\" + chi_href)\n",
    "chi_img_url\n",
    "\n",
    "# dos_donts_url = ('https://chi.streetsblog.org' + dos_donts_href)\n",
    "# # print(dos_donts_url)\n",
    "\n",
    "# # Add image to master dictionary\n",
    "# scooter_dict['dos_donts_url']= dos_donts_url\n",
    "# scooter_dict"
   ]
  },
  {
   "cell_type": "code",
   "execution_count": null,
   "metadata": {},
   "outputs": [],
   "source": []
  }
 ],
 "metadata": {
  "kernelspec": {
   "display_name": "Python 3",
   "language": "python",
   "name": "python3"
  },
  "language_info": {
   "codemirror_mode": {
    "name": "ipython",
    "version": 3
   },
   "file_extension": ".py",
   "mimetype": "text/x-python",
   "name": "python",
   "nbconvert_exporter": "python",
   "pygments_lexer": "ipython3",
   "version": "3.7.4"
  }
 },
 "nbformat": 4,
 "nbformat_minor": 4
}

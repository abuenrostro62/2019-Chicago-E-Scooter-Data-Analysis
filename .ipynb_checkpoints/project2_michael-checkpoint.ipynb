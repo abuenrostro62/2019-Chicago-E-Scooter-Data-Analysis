{
 "cells": [
  {
   "cell_type": "code",
<<<<<<< HEAD
=======
   "execution_count": 10,
   "metadata": {
    "jupyter": {
     "source_hidden": true
    }
   },
   "outputs": [],
   "source": [
    "import pymongo\n",
    "import datetime"
   ]
  },
  {
   "cell_type": "code",
   "execution_count": 11,
   "metadata": {
    "jupyter": {
     "source_hidden": true
    }
   },
   "outputs": [],
   "source": [
    "conn = 'mongodb://localhost:27017'\n",
    "client = pymongo.MongoClient(conn)"
   ]
  },
  {
   "cell_type": "code",
   "execution_count": 12,
   "metadata": {
    "jupyter": {
     "source_hidden": true
    }
   },
   "outputs": [],
   "source": [
    "db = client.chiTransport_db\n",
    "\n",
    "collection = db.scooter_db"
   ]
  },
  {
   "cell_type": "code",
   "execution_count": 39,
   "metadata": {
    "collapsed": true,
    "jupyter": {
     "outputs_hidden": true,
     "source_hidden": true
    }
   },
   "outputs": [
    {
     "data": {
      "text/html": [
       "<div>\n",
       "<style scoped>\n",
       "    .dataframe tbody tr th:only-of-type {\n",
       "        vertical-align: middle;\n",
       "    }\n",
       "\n",
       "    .dataframe tbody tr th {\n",
       "        vertical-align: top;\n",
       "    }\n",
       "\n",
       "    .dataframe thead th {\n",
       "        text-align: right;\n",
       "    }\n",
       "</style>\n",
       "<table border=\"1\" class=\"dataframe\">\n",
       "  <thead>\n",
       "    <tr style=\"text-align: right;\">\n",
       "      <th></th>\n",
       "      <th>Trip ID</th>\n",
       "      <th>Start Time</th>\n",
       "      <th>Trip Distance</th>\n",
       "      <th>Trip Duration</th>\n",
       "      <th>Start Census Tract</th>\n",
       "      <th>End Census Tract</th>\n",
       "      <th>Start Community Area Number</th>\n",
       "      <th>End Community Area Number</th>\n",
       "      <th>Start Community Area Name</th>\n",
       "      <th>End Community Area Name</th>\n",
       "      <th>Start Centroid Latitude</th>\n",
       "      <th>Start Centroid Longitude</th>\n",
       "      <th>End Centroid Latitude</th>\n",
       "      <th>End Centroid Longitude</th>\n",
       "    </tr>\n",
       "  </thead>\n",
       "  <tbody>\n",
       "    <tr>\n",
       "      <td>57</td>\n",
       "      <td>d7299e55-c6ba-526a-9e08-d2c70624b617</td>\n",
       "      <td>07/19/2019 01:00:00 PM</td>\n",
       "      <td>0</td>\n",
       "      <td>45</td>\n",
       "      <td>1.703122e+10</td>\n",
       "      <td>1.703122e+10</td>\n",
       "      <td>22.0</td>\n",
       "      <td>22.0</td>\n",
       "      <td>LOGAN SQUARE</td>\n",
       "      <td>LOGAN SQUARE</td>\n",
       "      <td>41.929369</td>\n",
       "      <td>-87.724231</td>\n",
       "      <td>41.929369</td>\n",
       "      <td>-87.724231</td>\n",
       "    </tr>\n",
       "    <tr>\n",
       "      <td>61</td>\n",
       "      <td>f70d8d51-8353-5daf-a94b-05bf4eef0e64</td>\n",
       "      <td>07/04/2019 12:00:00 PM</td>\n",
       "      <td>2591</td>\n",
       "      <td>772</td>\n",
       "      <td>1.703124e+10</td>\n",
       "      <td>1.703122e+10</td>\n",
       "      <td>24.0</td>\n",
       "      <td>22.0</td>\n",
       "      <td>WEST TOWN</td>\n",
       "      <td>LOGAN SQUARE</td>\n",
       "      <td>41.911970</td>\n",
       "      <td>-87.683637</td>\n",
       "      <td>41.921126</td>\n",
       "      <td>-87.699754</td>\n",
       "    </tr>\n",
       "    <tr>\n",
       "      <td>85</td>\n",
       "      <td>1219adef-c969-36f4-1219-adefc96936f4</td>\n",
       "      <td>08/16/2019 01:00:00 PM</td>\n",
       "      <td>772</td>\n",
       "      <td>794</td>\n",
       "      <td>1.703183e+10</td>\n",
       "      <td>1.703128e+10</td>\n",
       "      <td>28.0</td>\n",
       "      <td>28.0</td>\n",
       "      <td>NEAR WEST SIDE</td>\n",
       "      <td>NEAR WEST SIDE</td>\n",
       "      <td>41.885288</td>\n",
       "      <td>-87.657242</td>\n",
       "      <td>41.879248</td>\n",
       "      <td>-87.642624</td>\n",
       "    </tr>\n",
       "    <tr>\n",
       "      <td>87</td>\n",
       "      <td>11fcf7c2-9295-b76a-11fc-f7c29295b76a</td>\n",
       "      <td>07/25/2019 06:00:00 PM</td>\n",
       "      <td>0</td>\n",
       "      <td>107</td>\n",
       "      <td>1.703183e+10</td>\n",
       "      <td>1.703183e+10</td>\n",
       "      <td>28.0</td>\n",
       "      <td>28.0</td>\n",
       "      <td>NEAR WEST SIDE</td>\n",
       "      <td>NEAR WEST SIDE</td>\n",
       "      <td>41.879077</td>\n",
       "      <td>-87.657045</td>\n",
       "      <td>41.879077</td>\n",
       "      <td>-87.657045</td>\n",
       "    </tr>\n",
       "    <tr>\n",
       "      <td>92</td>\n",
       "      <td>12d4b35e-8c82-4a18-b77c-dd5061b17b56</td>\n",
       "      <td>07/22/2019 04:00:00 PM</td>\n",
       "      <td>817</td>\n",
       "      <td>234</td>\n",
       "      <td>1.703183e+10</td>\n",
       "      <td>1.703183e+10</td>\n",
       "      <td>28.0</td>\n",
       "      <td>28.0</td>\n",
       "      <td>NEAR WEST SIDE</td>\n",
       "      <td>NEAR WEST SIDE</td>\n",
       "      <td>41.879077</td>\n",
       "      <td>-87.657045</td>\n",
       "      <td>41.879077</td>\n",
       "      <td>-87.657045</td>\n",
       "    </tr>\n",
       "    <tr>\n",
       "      <td>...</td>\n",
       "      <td>...</td>\n",
       "      <td>...</td>\n",
       "      <td>...</td>\n",
       "      <td>...</td>\n",
       "      <td>...</td>\n",
       "      <td>...</td>\n",
       "      <td>...</td>\n",
       "      <td>...</td>\n",
       "      <td>...</td>\n",
       "      <td>...</td>\n",
       "      <td>...</td>\n",
       "      <td>...</td>\n",
       "      <td>...</td>\n",
       "      <td>...</td>\n",
       "    </tr>\n",
       "    <tr>\n",
       "      <td>710832</td>\n",
       "      <td>f4350bf6-f033-416b-9a12-093676bc0413</td>\n",
       "      <td>08/15/2019 06:00:00 PM</td>\n",
       "      <td>566</td>\n",
       "      <td>113</td>\n",
       "      <td>1.703124e+10</td>\n",
       "      <td>1.703124e+10</td>\n",
       "      <td>24.0</td>\n",
       "      <td>24.0</td>\n",
       "      <td>WEST TOWN</td>\n",
       "      <td>WEST TOWN</td>\n",
       "      <td>41.906707</td>\n",
       "      <td>-87.684686</td>\n",
       "      <td>41.906023</td>\n",
       "      <td>-87.675310</td>\n",
       "    </tr>\n",
       "    <tr>\n",
       "      <td>710833</td>\n",
       "      <td>f8dd5c1c-fb6c-5d07-8f11-8ab71560feca</td>\n",
       "      <td>09/17/2019 07:00:00 PM</td>\n",
       "      <td>40</td>\n",
       "      <td>65</td>\n",
       "      <td>1.703124e+10</td>\n",
       "      <td>1.703124e+10</td>\n",
       "      <td>24.0</td>\n",
       "      <td>24.0</td>\n",
       "      <td>WEST TOWN</td>\n",
       "      <td>WEST TOWN</td>\n",
       "      <td>41.899670</td>\n",
       "      <td>-87.669837</td>\n",
       "      <td>41.899670</td>\n",
       "      <td>-87.669837</td>\n",
       "    </tr>\n",
       "    <tr>\n",
       "      <td>710835</td>\n",
       "      <td>f644d8ce-a32d-5c1c-ad92-ca01ef86b9f9</td>\n",
       "      <td>08/30/2019 04:00:00 PM</td>\n",
       "      <td>595</td>\n",
       "      <td>301</td>\n",
       "      <td>1.703124e+10</td>\n",
       "      <td>1.703124e+10</td>\n",
       "      <td>24.0</td>\n",
       "      <td>24.0</td>\n",
       "      <td>WEST TOWN</td>\n",
       "      <td>WEST TOWN</td>\n",
       "      <td>41.899670</td>\n",
       "      <td>-87.669837</td>\n",
       "      <td>41.908376</td>\n",
       "      <td>-87.670937</td>\n",
       "    </tr>\n",
       "    <tr>\n",
       "      <td>710836</td>\n",
       "      <td>fe97d758-f9eb-4314-85c0-058d56019e39</td>\n",
       "      <td>07/06/2019 03:00:00 PM</td>\n",
       "      <td>1239</td>\n",
       "      <td>321</td>\n",
       "      <td>1.703124e+10</td>\n",
       "      <td>1.703124e+10</td>\n",
       "      <td>24.0</td>\n",
       "      <td>24.0</td>\n",
       "      <td>WEST TOWN</td>\n",
       "      <td>WEST TOWN</td>\n",
       "      <td>41.892433</td>\n",
       "      <td>-87.669624</td>\n",
       "      <td>41.899670</td>\n",
       "      <td>-87.669837</td>\n",
       "    </tr>\n",
       "    <tr>\n",
       "      <td>710838</td>\n",
       "      <td>f554df2f-4e4f-5b15-ab56-30199016dcda</td>\n",
       "      <td>09/05/2019 08:00:00 PM</td>\n",
       "      <td>1656</td>\n",
       "      <td>20</td>\n",
       "      <td>1.703124e+10</td>\n",
       "      <td>1.703124e+10</td>\n",
       "      <td>24.0</td>\n",
       "      <td>24.0</td>\n",
       "      <td>WEST TOWN</td>\n",
       "      <td>WEST TOWN</td>\n",
       "      <td>41.906023</td>\n",
       "      <td>-87.675310</td>\n",
       "      <td>41.906710</td>\n",
       "      <td>-87.665328</td>\n",
       "    </tr>\n",
       "  </tbody>\n",
       "</table>\n",
       "<p>382636 rows × 14 columns</p>\n",
       "</div>"
      ],
      "text/plain": [
       "                                     Trip ID              Start Time  \\\n",
       "57      d7299e55-c6ba-526a-9e08-d2c70624b617  07/19/2019 01:00:00 PM   \n",
       "61      f70d8d51-8353-5daf-a94b-05bf4eef0e64  07/04/2019 12:00:00 PM   \n",
       "85      1219adef-c969-36f4-1219-adefc96936f4  08/16/2019 01:00:00 PM   \n",
       "87      11fcf7c2-9295-b76a-11fc-f7c29295b76a  07/25/2019 06:00:00 PM   \n",
       "92      12d4b35e-8c82-4a18-b77c-dd5061b17b56  07/22/2019 04:00:00 PM   \n",
       "...                                      ...                     ...   \n",
       "710832  f4350bf6-f033-416b-9a12-093676bc0413  08/15/2019 06:00:00 PM   \n",
       "710833  f8dd5c1c-fb6c-5d07-8f11-8ab71560feca  09/17/2019 07:00:00 PM   \n",
       "710835  f644d8ce-a32d-5c1c-ad92-ca01ef86b9f9  08/30/2019 04:00:00 PM   \n",
       "710836  fe97d758-f9eb-4314-85c0-058d56019e39  07/06/2019 03:00:00 PM   \n",
       "710838  f554df2f-4e4f-5b15-ab56-30199016dcda  09/05/2019 08:00:00 PM   \n",
       "\n",
       "        Trip Distance  Trip Duration  Start Census Tract  End Census Tract  \\\n",
       "57                  0             45        1.703122e+10      1.703122e+10   \n",
       "61               2591            772        1.703124e+10      1.703122e+10   \n",
       "85                772            794        1.703183e+10      1.703128e+10   \n",
       "87                  0            107        1.703183e+10      1.703183e+10   \n",
       "92                817            234        1.703183e+10      1.703183e+10   \n",
       "...               ...            ...                 ...               ...   \n",
       "710832            566            113        1.703124e+10      1.703124e+10   \n",
       "710833             40             65        1.703124e+10      1.703124e+10   \n",
       "710835            595            301        1.703124e+10      1.703124e+10   \n",
       "710836           1239            321        1.703124e+10      1.703124e+10   \n",
       "710838           1656             20        1.703124e+10      1.703124e+10   \n",
       "\n",
       "        Start Community Area Number  End Community Area Number  \\\n",
       "57                             22.0                       22.0   \n",
       "61                             24.0                       22.0   \n",
       "85                             28.0                       28.0   \n",
       "87                             28.0                       28.0   \n",
       "92                             28.0                       28.0   \n",
       "...                             ...                        ...   \n",
       "710832                         24.0                       24.0   \n",
       "710833                         24.0                       24.0   \n",
       "710835                         24.0                       24.0   \n",
       "710836                         24.0                       24.0   \n",
       "710838                         24.0                       24.0   \n",
       "\n",
       "       Start Community Area Name End Community Area Name  \\\n",
       "57                  LOGAN SQUARE            LOGAN SQUARE   \n",
       "61                     WEST TOWN            LOGAN SQUARE   \n",
       "85                NEAR WEST SIDE          NEAR WEST SIDE   \n",
       "87                NEAR WEST SIDE          NEAR WEST SIDE   \n",
       "92                NEAR WEST SIDE          NEAR WEST SIDE   \n",
       "...                          ...                     ...   \n",
       "710832                 WEST TOWN               WEST TOWN   \n",
       "710833                 WEST TOWN               WEST TOWN   \n",
       "710835                 WEST TOWN               WEST TOWN   \n",
       "710836                 WEST TOWN               WEST TOWN   \n",
       "710838                 WEST TOWN               WEST TOWN   \n",
       "\n",
       "        Start Centroid Latitude  Start Centroid Longitude  \\\n",
       "57                    41.929369                -87.724231   \n",
       "61                    41.911970                -87.683637   \n",
       "85                    41.885288                -87.657242   \n",
       "87                    41.879077                -87.657045   \n",
       "92                    41.879077                -87.657045   \n",
       "...                         ...                       ...   \n",
       "710832                41.906707                -87.684686   \n",
       "710833                41.899670                -87.669837   \n",
       "710835                41.899670                -87.669837   \n",
       "710836                41.892433                -87.669624   \n",
       "710838                41.906023                -87.675310   \n",
       "\n",
       "        End Centroid Latitude  End Centroid Longitude  \n",
       "57                  41.929369              -87.724231  \n",
       "61                  41.921126              -87.699754  \n",
       "85                  41.879248              -87.642624  \n",
       "87                  41.879077              -87.657045  \n",
       "92                  41.879077              -87.657045  \n",
       "...                       ...                     ...  \n",
       "710832              41.906023              -87.675310  \n",
       "710833              41.899670              -87.669837  \n",
       "710835              41.908376              -87.670937  \n",
       "710836              41.899670              -87.669837  \n",
       "710838              41.906710              -87.665328  \n",
       "\n",
       "[382636 rows x 14 columns]"
      ]
     },
     "execution_count": 39,
     "metadata": {},
     "output_type": "execute_result"
    }
   ],
   "source": [
    "import pandas as pd\n",
    "import csv\n",
    "\n",
    "scoot_csv = 'E-Scooter_Trips_-_2019_Pilot.csv'\n",
    "\n",
    "header = ['Trip ID', 'Start Time', 'End Time', 'Trip Distance', 'Trip Duration',\n",
    "       'Accuracy', 'Start Census Tract', 'End Census Tract',\n",
    "       'Start Community Area Number', 'End Community Area Number',\n",
    "       'Start Community Area Name', 'End Community Area Name',\n",
    "       'Start Centroid Latitude', 'Start Centroid Longitude',\n",
    "       'Start Centroid Location', 'End Centroid Latitude',\n",
    "       'End Centroid Longitude', 'End Centroid Location']\n",
    "trip_ls = []\n",
    "'''\n",
    "with open(scoot_csv) as csvfile:\n",
    "    spamreader = csv.reader(csvfile)\n",
    "    for i, row in enumerate(spamreader, start=1):\n",
    "        if i == 0:\n",
    "            next\n",
    "        trip = {}\n",
    "        for v, col in enumerate(header):\n",
    "            trip[col] = row[v]\n",
    "        trip_ls.append(trip)\n",
    "        db.collection.insert_one(trip)\n",
    "        #print(row)\n",
    "        #if i > 5:\n",
    "        #    break\n",
    "        \n",
    "print(trip_ls)'''\n",
    "\n",
    "scoot_df = pd.read_csv(scoot_csv)\n",
    "df2 = scoot_df.dropna(subset=['Start Census Tract','Start Community Area Number'])\n",
    "df3 = df2.drop(columns=['Accuracy','Start Centroid Location','End Centroid Location', 'End Time'])\n",
    "df3"
   ]
  },
  {
   "cell_type": "code",
   "execution_count": 62,
   "metadata": {
    "jupyter": {
     "source_hidden": true
    }
   },
   "outputs": [],
   "source": [
    "l = len(df3)\n",
    "\n",
    "df4 = df3.sample(int(l/8))"
   ]
  },
  {
   "cell_type": "code",
   "execution_count": 63,
   "metadata": {
    "jupyter": {
     "source_hidden": true
    }
   },
   "outputs": [],
   "source": [
    "df4.to_json('scootJson.json')"
   ]
  },
  {
   "cell_type": "code",
   "execution_count": 64,
   "metadata": {
    "jupyter": {
     "source_hidden": true
    }
   },
   "outputs": [],
   "source": [
    "scoot_json = open('scootJson.json').read()"
   ]
  },
  {
   "cell_type": "code",
   "execution_count": 65,
   "metadata": {
    "jupyter": {
     "source_hidden": true
    }
   },
   "outputs": [],
   "source": [
    "import json\n",
    "\n",
    "data = json.loads(scoot_json)"
   ]
  },
  {
   "cell_type": "code",
   "execution_count": 66,
   "metadata": {
    "jupyter": {
     "source_hidden": true
    }
   },
   "outputs": [
    {
     "data": {
      "text/plain": [
       "<pymongo.results.InsertOneResult at 0x18781d7dd88>"
      ]
     },
     "execution_count": 66,
     "metadata": {},
     "output_type": "execute_result"
    }
   ],
   "source": [
    "collection.insert_one(data)"
   ]
  },
  {
   "cell_type": "code",
>>>>>>> bfe1312c64096e7cfc5bfcb537839ae943026483
   "execution_count": 1,
   "metadata": {},
   "outputs": [],
   "source": [
    "import sqlalchemy\n",
    "from sqlalchemy.ext.automap import automap_base\n",
    "from sqlalchemy.orm import Session\n",
    "from sqlalchemy import create_engine, inspect\n",
    "import json\n"
   ]
  },
  {
   "cell_type": "code",
   "execution_count": 2,
   "metadata": {},
   "outputs": [],
   "source": [
<<<<<<< HEAD
    "engine = create_engine('sqlite:///../data/chiTransportSAVED.db')"
=======
    "engine = create_engine('sqlite:///chiTransport.db')"
>>>>>>> bfe1312c64096e7cfc5bfcb537839ae943026483
   ]
  },
  {
   "cell_type": "code",
   "execution_count": 3,
   "metadata": {},
   "outputs": [
    {
     "data": {
      "text/plain": [
       "['randomDivvy', 'randomScoot']"
      ]
     },
     "execution_count": 3,
     "metadata": {},
     "output_type": "execute_result"
    }
   ],
   "source": [
    "inspector = inspect(engine)\n",
    "inspector.get_table_names()"
   ]
  },
  {
   "cell_type": "code",
   "execution_count": 4,
   "metadata": {},
   "outputs": [
    {
     "name": "stdout",
     "output_type": "stream",
     "text": [
      "Trip ID TEXT\n",
      "Start Time TEXT\n",
      "End Time TEXT\n",
      "Trip Distance TEXT\n",
      "Trip Duration TEXT\n",
      "Accuracy TEXT\n",
      "Start Census Tract TEXT\n",
      "End Census Tract TEXT\n",
      "Start Community Area Number TEXT\n",
      "End Community Area Number TEXT\n",
      "Start Community Area Name TEXT\n",
      "End Community Area Name TEXT\n",
      "Start Centroid Latitude TEXT\n",
      "Start Centroid Longitude TEXT\n",
      "Start Centroid Location TEXT\n",
      "End Centroid Latitude TEXT\n",
      "End Centroid Longitude TEXT\n",
      "End Centroid Location TEXT\n"
     ]
    }
   ],
   "source": [
    "columns = inspector.get_columns('randomScoot')\n",
    "for col in columns:\n",
    "    print(col['name'], col['type'])"
   ]
  },
  {
   "cell_type": "code",
   "execution_count": 5,
   "metadata": {},
   "outputs": [],
   "source": [
    "results = engine.execute(\"Select * from randomScoot WHERE [Start Census Tract] != '' AND [End Community Area Number] != '' AND [Trip Distance] != '0'\").fetchall()"
   ]
  },
  {
   "cell_type": "code",
   "execution_count": 6,
   "metadata": {},
   "outputs": [],
   "source": [
    "endLat = [r[15] for r in results]"
   ]
  },
  {
   "cell_type": "code",
   "execution_count": 7,
   "metadata": {},
   "outputs": [],
   "source": [
    "scootJson = []\n",
    "#Start and End Time rounded to the nearest hour\n",
    "for result in results:\n",
    "    r = {}\n",
    "    r['Trip ID'] = result[0]\n",
    "    r['Start Time'] = result[1]\n",
    "    r['Distance'] = result[3]\n",
    "    r['Duration'] = result[4]\n",
    "    r['Start Tract'] = result[6]\n",
    "    r['End Tract'] = result[7]\n",
    "    r['Start Community #'] = result[8]\n",
    "    r['End Community #'] = result[9]\n",
    "    r['Start Community Name'] = result[10]\n",
    "    r['End Community Name'] = result[11]\n",
    "    r['Start Lat'] = float(result[12])\n",
    "    r['Start Long'] = float(result[13])\n",
    "    r['End Lat'] = float(result[15])\n",
    "    r['End Long'] = float(result[16])\n",
    "    scootJson.append(r)"
   ]
  },
  {
   "cell_type": "code",
   "execution_count": 8,
   "metadata": {},
   "outputs": [],
   "source": [
<<<<<<< HEAD
    "with open(\"/../data/scoot.json\",'w') as f:\n",
=======
    "with open(\"scoot.json\",'w') as f:\n",
>>>>>>> bfe1312c64096e7cfc5bfcb537839ae943026483
    "    json.dump(scootJson, f, ensure_ascii=False, indent=4)"
   ]
  },
  {
   "cell_type": "code",
   "execution_count": 9,
   "metadata": {},
   "outputs": [],
   "source": [
    "short = engine.execute(\"Select * from randomScoot WHERE [Start Census Tract] != '' AND [End Community Area Number] != '' AND [Trip Distance] != '0' LIMIT 10\").fetchall()"
   ]
  },
  {
   "cell_type": "code",
   "execution_count": 10,
   "metadata": {},
   "outputs": [],
   "source": [
    "shortJson = []\n",
    "for result in short:\n",
    "    r = {}\n",
    "    r['Trip ID'] = result[0]\n",
    "    r['Start Time'] = result[1]\n",
    "    r['Distance'] = result[3]\n",
    "    r['Duration'] = result[4]\n",
    "    r['Start Tract'] = result[6]\n",
    "    r['End Tract'] = result[7]\n",
    "    r['Start Community #'] = result[8]\n",
    "    r['End Community #'] = result[9]\n",
    "    r['Start Community Name'] = result[10]\n",
    "    r['End Community Name'] = result[11]\n",
    "    r['Start Lat'] = float(result[12])\n",
    "    r['Start Long'] = float(result[13])\n",
    "    r['End Lat'] = float(result[15])\n",
    "    r['End Long'] = float(result[16])\n",
    "    shortJson.append(r)"
   ]
  },
  {
   "cell_type": "code",
   "execution_count": 11,
   "metadata": {},
   "outputs": [],
   "source": [
    "import json\n",
    "\n",
    "with open(\"short.json\",'w') as f:\n",
    "    json.dump(shortJson, f, ensure_ascii=False, indent=4)"
   ]
  },
  {
   "cell_type": "code",
   "execution_count": 12,
   "metadata": {},
   "outputs": [],
   "source": [
    "divvy_results = engine.execute(\"Select * from randomDivvy\").fetchall()"
   ]
  },
  {
   "cell_type": "code",
   "execution_count": 13,
   "metadata": {},
   "outputs": [
    {
     "data": {
      "text/plain": [
       "500000"
      ]
     },
     "execution_count": 13,
     "metadata": {},
     "output_type": "execute_result"
    }
   ],
   "source": [
    "len(divvy_results)"
   ]
  },
  {
   "cell_type": "code",
<<<<<<< HEAD
   "execution_count": 32,
=======
   "execution_count": 14,
>>>>>>> bfe1312c64096e7cfc5bfcb537839ae943026483
   "metadata": {},
   "outputs": [
    {
     "name": "stdout",
     "output_type": "stream",
     "text": [
      "trip_id TEXT\n",
      "start_time TEXT\n",
      "end_time TEXT\n",
      "bikeid TEXT\n",
      "tripduration TEXT\n",
      "from_station_id TEXT\n",
      "from_station_name TEXT\n",
      "to_station_id TEXT\n",
      "to_station_name TEXT\n",
      "usertype TEXT\n",
      "gender TEXT\n",
      "birthyear TEXT\n"
     ]
    }
   ],
   "source": [
    "columns = inspector.get_columns('randomDivvy')\n",
    "for col in columns:\n",
    "    print(col['name'], col['type'])\n",
    "    \n",
    "colNames = [col['name'] for col in columns]"
   ]
  },
  {
   "cell_type": "code",
   "execution_count": 15,
   "metadata": {},
   "outputs": [
    {
     "name": "stdout",
     "output_type": "stream",
     "text": [
      "trip_id: 23479388\n",
      "start_time: 2019-07-01 00:00:27\n",
      "end_time: 2019-07-01 00:20:41\n",
      "bikeid: 3591\n",
      "tripduration: 1,214.0\n",
      "from_station_id: 117\n",
      "from_station_name: Wilton Ave & Belmont Ave\n",
      "to_station_id: 497\n",
      "to_station_name: Kimball Ave & Belmont Ave\n",
      "usertype: Subscriber\n",
      "gender: Male\n",
      "birthyear: 1992\n"
     ]
    }
   ],
   "source": [
    "for i, c in enumerate(colNames):\n",
    "    print(F\"{c}: {divvy_results[0][i]}\")"
   ]
  },
  {
   "cell_type": "code",
   "execution_count": 16,
   "metadata": {},
   "outputs": [
    {
     "data": {
      "text/plain": [
       "False"
      ]
     },
     "execution_count": 16,
     "metadata": {},
     "output_type": "execute_result"
    }
   ],
   "source": [
    "q2scope = ['2019-04','2019-05']\n",
    "divvy_results[0][1][:7] in q2scope"
   ]
  },
  {
   "cell_type": "code",
   "execution_count": 17,
   "metadata": {},
   "outputs": [],
   "source": [
    "divvyJson = []\n",
    "for result in divvy_results:\n",
    "    if result[1][:7] not in q2scope:\n",
    "        r = {}\n",
    "        for i, c in enumerate(colNames):\n",
    "            if i != 3 and i != 6 and i < 8:\n",
    "                r[c] = result[i]\n",
    "        divvyJson.append(r)"
   ]
  },
  {
   "cell_type": "code",
   "execution_count": 18,
   "metadata": {},
   "outputs": [
    {
     "name": "stdout",
     "output_type": "stream",
     "text": [
      "500000\n"
     ]
    },
    {
     "data": {
      "text/plain": [
       "{'trip_id': '23479388',\n",
       " 'start_time': '2019-07-01 00:00:27',\n",
       " 'end_time': '2019-07-01 00:20:41',\n",
       " 'tripduration': '1,214.0',\n",
       " 'from_station_id': '117',\n",
       " 'to_station_id': '497'}"
      ]
     },
     "execution_count": 18,
     "metadata": {},
     "output_type": "execute_result"
    }
   ],
   "source": [
    "print(len(divvyJson))\n",
    "divvyJson[0]"
   ]
  },
  {
   "cell_type": "code",
   "execution_count": 19,
   "metadata": {},
   "outputs": [],
   "source": [
    "import json\n",
    "\n",
<<<<<<< HEAD
    "with open(\"/../data/divvy.json\",'w') as f:\n",
=======
    "with open(\"divvy.json\",'w') as f:\n",
>>>>>>> bfe1312c64096e7cfc5bfcb537839ae943026483
    "    json.dump(divvyJson, f, ensure_ascii=False, indent=4)"
   ]
  },
  {
   "cell_type": "code",
   "execution_count": 41,
   "metadata": {},
   "outputs": [
    {
     "data": {
      "text/plain": [
       "2"
      ]
     },
     "execution_count": 41,
     "metadata": {},
     "output_type": "execute_result"
    }
   ],
   "source": []
  },
  {
   "cell_type": "code",
<<<<<<< HEAD
   "execution_count": 5,
=======
   "execution_count": 20,
>>>>>>> bfe1312c64096e7cfc5bfcb537839ae943026483
   "metadata": {},
   "outputs": [],
   "source": [
    "import pandas as pd"
   ]
  },
  {
   "cell_type": "code",
<<<<<<< HEAD
   "execution_count": 8,
=======
   "execution_count": 21,
>>>>>>> bfe1312c64096e7cfc5bfcb537839ae943026483
   "metadata": {},
   "outputs": [
    {
     "data": {
      "text/html": [
       "<div>\n",
       "<style scoped>\n",
       "    .dataframe tbody tr th:only-of-type {\n",
       "        vertical-align: middle;\n",
       "    }\n",
       "\n",
       "    .dataframe tbody tr th {\n",
       "        vertical-align: top;\n",
       "    }\n",
       "\n",
       "    .dataframe thead th {\n",
       "        text-align: right;\n",
       "    }\n",
       "</style>\n",
       "<table border=\"1\" class=\"dataframe\">\n",
       "  <thead>\n",
       "    <tr style=\"text-align: right;\">\n",
       "      <th></th>\n",
       "      <th>Trip ID</th>\n",
       "      <th>Start Time</th>\n",
       "      <th>Distance</th>\n",
       "      <th>Duration</th>\n",
       "      <th>Start Tract</th>\n",
       "      <th>End Tract</th>\n",
       "      <th>Start Community #</th>\n",
       "      <th>End Community #</th>\n",
       "      <th>Start Community Name</th>\n",
       "      <th>End Community Name</th>\n",
       "      <th>Start Lat</th>\n",
       "      <th>Start Long</th>\n",
       "      <th>End Lat</th>\n",
       "      <th>End Long</th>\n",
       "    </tr>\n",
       "  </thead>\n",
       "  <tbody>\n",
       "    <tr>\n",
       "      <td>0</td>\n",
       "      <td>1219adef-c969-36f4-1219-adefc96936f4</td>\n",
       "      <td>08/16/2019 01:00:00 PM</td>\n",
       "      <td>772</td>\n",
       "      <td>794</td>\n",
       "      <td>17031833000</td>\n",
       "      <td>17031281900</td>\n",
       "      <td>28</td>\n",
       "      <td>28</td>\n",
       "      <td>NEAR WEST SIDE</td>\n",
       "      <td>NEAR WEST SIDE</td>\n",
       "      <td>41.885288</td>\n",
       "      <td>-87.657242</td>\n",
       "      <td>41.879248</td>\n",
       "      <td>-87.642624</td>\n",
       "    </tr>\n",
       "    <tr>\n",
       "      <td>1</td>\n",
       "      <td>12d4b35e-8c82-4a18-b77c-dd5061b17b56</td>\n",
       "      <td>07/22/2019 04:00:00 PM</td>\n",
       "      <td>817</td>\n",
       "      <td>234</td>\n",
       "      <td>17031833100</td>\n",
       "      <td>17031833100</td>\n",
       "      <td>28</td>\n",
       "      <td>28</td>\n",
       "      <td>NEAR WEST SIDE</td>\n",
       "      <td>NEAR WEST SIDE</td>\n",
       "      <td>41.879077</td>\n",
       "      <td>-87.657045</td>\n",
       "      <td>41.879077</td>\n",
       "      <td>-87.657045</td>\n",
       "    </tr>\n",
       "    <tr>\n",
       "      <td>2</td>\n",
       "      <td>15b69e57-8a22-40b1-a682-42d52fbeddcb</td>\n",
       "      <td>07/14/2019 07:00:00 PM</td>\n",
       "      <td>6538</td>\n",
       "      <td>2153</td>\n",
       "      <td>17031838100</td>\n",
       "      <td>17031838100</td>\n",
       "      <td>28</td>\n",
       "      <td>28</td>\n",
       "      <td>NEAR WEST SIDE</td>\n",
       "      <td>NEAR WEST SIDE</td>\n",
       "      <td>41.878665</td>\n",
       "      <td>-87.671681</td>\n",
       "      <td>41.878665</td>\n",
       "      <td>-87.671681</td>\n",
       "    </tr>\n",
       "    <tr>\n",
       "      <td>3</td>\n",
       "      <td>11fca7b6-346a-8436-11fc-a7b6346a8436</td>\n",
       "      <td>07/25/2019 12:00:00 PM</td>\n",
       "      <td>370</td>\n",
       "      <td>143</td>\n",
       "      <td>17031833100</td>\n",
       "      <td>17031833100</td>\n",
       "      <td>28</td>\n",
       "      <td>28</td>\n",
       "      <td>NEAR WEST SIDE</td>\n",
       "      <td>NEAR WEST SIDE</td>\n",
       "      <td>41.879077</td>\n",
       "      <td>-87.657045</td>\n",
       "      <td>41.879077</td>\n",
       "      <td>-87.657045</td>\n",
       "    </tr>\n",
       "    <tr>\n",
       "      <td>4</td>\n",
       "      <td>37d991bd-1b00-46f3-b66e-aa33c88456cc</td>\n",
       "      <td>09/20/2019 05:00:00 PM</td>\n",
       "      <td>1048</td>\n",
       "      <td>232</td>\n",
       "      <td>17031833100</td>\n",
       "      <td>17031833100</td>\n",
       "      <td>28</td>\n",
       "      <td>28</td>\n",
       "      <td>NEAR WEST SIDE</td>\n",
       "      <td>NEAR WEST SIDE</td>\n",
       "      <td>41.879077</td>\n",
       "      <td>-87.657045</td>\n",
       "      <td>41.879077</td>\n",
       "      <td>-87.657045</td>\n",
       "    </tr>\n",
       "    <tr>\n",
       "      <td>5</td>\n",
       "      <td>38bf3c5e-b783-54ce-8f9c-efe18b6c912d</td>\n",
       "      <td>06/19/2019 01:00:00 PM</td>\n",
       "      <td>627</td>\n",
       "      <td>498</td>\n",
       "      <td>17031833100</td>\n",
       "      <td>17031833100</td>\n",
       "      <td>28</td>\n",
       "      <td>28</td>\n",
       "      <td>NEAR WEST SIDE</td>\n",
       "      <td>NEAR WEST SIDE</td>\n",
       "      <td>41.879077</td>\n",
       "      <td>-87.657045</td>\n",
       "      <td>41.879077</td>\n",
       "      <td>-87.657045</td>\n",
       "    </tr>\n",
       "    <tr>\n",
       "      <td>6</td>\n",
       "      <td>3467e6cc-1660-5a84-b2bc-c752f8ccc1aa</td>\n",
       "      <td>07/31/2019 06:00:00 PM</td>\n",
       "      <td>1174</td>\n",
       "      <td>421</td>\n",
       "      <td>17031833100</td>\n",
       "      <td>17031280100</td>\n",
       "      <td>28</td>\n",
       "      <td>28</td>\n",
       "      <td>NEAR WEST SIDE</td>\n",
       "      <td>NEAR WEST SIDE</td>\n",
       "      <td>41.879077</td>\n",
       "      <td>-87.657045</td>\n",
       "      <td>41.885296</td>\n",
       "      <td>-87.642804</td>\n",
       "    </tr>\n",
       "    <tr>\n",
       "      <td>7</td>\n",
       "      <td>179972bc-9418-5fca-9182-34324d9aebfb</td>\n",
       "      <td>07/07/2019 03:00:00 PM</td>\n",
       "      <td>48</td>\n",
       "      <td>75</td>\n",
       "      <td>17031833100</td>\n",
       "      <td>17031833100</td>\n",
       "      <td>28</td>\n",
       "      <td>28</td>\n",
       "      <td>NEAR WEST SIDE</td>\n",
       "      <td>NEAR WEST SIDE</td>\n",
       "      <td>41.879077</td>\n",
       "      <td>-87.657045</td>\n",
       "      <td>41.879077</td>\n",
       "      <td>-87.657045</td>\n",
       "    </tr>\n",
       "    <tr>\n",
       "      <td>8</td>\n",
       "      <td>38a82171-fa8f-5cf3-921c-d8e8b050d3f1</td>\n",
       "      <td>09/12/2019 06:00:00 PM</td>\n",
       "      <td>1262</td>\n",
       "      <td>6</td>\n",
       "      <td>17031833000</td>\n",
       "      <td>17031833100</td>\n",
       "      <td>28</td>\n",
       "      <td>28</td>\n",
       "      <td>NEAR WEST SIDE</td>\n",
       "      <td>NEAR WEST SIDE</td>\n",
       "      <td>41.885288</td>\n",
       "      <td>-87.657242</td>\n",
       "      <td>41.879077</td>\n",
       "      <td>-87.657045</td>\n",
       "    </tr>\n",
       "    <tr>\n",
       "      <td>9</td>\n",
       "      <td>30a3f5af-9063-5e9e-b427-346af920447d</td>\n",
       "      <td>08/29/2019 07:00:00 AM</td>\n",
       "      <td>740</td>\n",
       "      <td>237</td>\n",
       "      <td>17031833100</td>\n",
       "      <td>17031833100</td>\n",
       "      <td>28</td>\n",
       "      <td>28</td>\n",
       "      <td>NEAR WEST SIDE</td>\n",
       "      <td>NEAR WEST SIDE</td>\n",
       "      <td>41.879077</td>\n",
       "      <td>-87.657045</td>\n",
       "      <td>41.879077</td>\n",
       "      <td>-87.657045</td>\n",
       "    </tr>\n",
       "  </tbody>\n",
       "</table>\n",
       "</div>"
      ],
      "text/plain": [
       "                                Trip ID              Start Time  Distance  \\\n",
       "0  1219adef-c969-36f4-1219-adefc96936f4  08/16/2019 01:00:00 PM       772   \n",
       "1  12d4b35e-8c82-4a18-b77c-dd5061b17b56  07/22/2019 04:00:00 PM       817   \n",
       "2  15b69e57-8a22-40b1-a682-42d52fbeddcb  07/14/2019 07:00:00 PM      6538   \n",
       "3  11fca7b6-346a-8436-11fc-a7b6346a8436  07/25/2019 12:00:00 PM       370   \n",
       "4  37d991bd-1b00-46f3-b66e-aa33c88456cc  09/20/2019 05:00:00 PM      1048   \n",
       "5  38bf3c5e-b783-54ce-8f9c-efe18b6c912d  06/19/2019 01:00:00 PM       627   \n",
       "6  3467e6cc-1660-5a84-b2bc-c752f8ccc1aa  07/31/2019 06:00:00 PM      1174   \n",
       "7  179972bc-9418-5fca-9182-34324d9aebfb  07/07/2019 03:00:00 PM        48   \n",
       "8  38a82171-fa8f-5cf3-921c-d8e8b050d3f1  09/12/2019 06:00:00 PM      1262   \n",
       "9  30a3f5af-9063-5e9e-b427-346af920447d  08/29/2019 07:00:00 AM       740   \n",
       "\n",
       "   Duration  Start Tract    End Tract  Start Community #  End Community #  \\\n",
       "0       794  17031833000  17031281900                 28               28   \n",
       "1       234  17031833100  17031833100                 28               28   \n",
       "2      2153  17031838100  17031838100                 28               28   \n",
       "3       143  17031833100  17031833100                 28               28   \n",
       "4       232  17031833100  17031833100                 28               28   \n",
       "5       498  17031833100  17031833100                 28               28   \n",
       "6       421  17031833100  17031280100                 28               28   \n",
       "7        75  17031833100  17031833100                 28               28   \n",
       "8         6  17031833000  17031833100                 28               28   \n",
       "9       237  17031833100  17031833100                 28               28   \n",
       "\n",
       "  Start Community Name End Community Name  Start Lat  Start Long    End Lat  \\\n",
       "0       NEAR WEST SIDE     NEAR WEST SIDE  41.885288  -87.657242  41.879248   \n",
       "1       NEAR WEST SIDE     NEAR WEST SIDE  41.879077  -87.657045  41.879077   \n",
       "2       NEAR WEST SIDE     NEAR WEST SIDE  41.878665  -87.671681  41.878665   \n",
       "3       NEAR WEST SIDE     NEAR WEST SIDE  41.879077  -87.657045  41.879077   \n",
       "4       NEAR WEST SIDE     NEAR WEST SIDE  41.879077  -87.657045  41.879077   \n",
       "5       NEAR WEST SIDE     NEAR WEST SIDE  41.879077  -87.657045  41.879077   \n",
       "6       NEAR WEST SIDE     NEAR WEST SIDE  41.879077  -87.657045  41.885296   \n",
       "7       NEAR WEST SIDE     NEAR WEST SIDE  41.879077  -87.657045  41.879077   \n",
       "8       NEAR WEST SIDE     NEAR WEST SIDE  41.885288  -87.657242  41.879077   \n",
       "9       NEAR WEST SIDE     NEAR WEST SIDE  41.879077  -87.657045  41.879077   \n",
       "\n",
       "    End Long  \n",
       "0 -87.642624  \n",
       "1 -87.657045  \n",
       "2 -87.671681  \n",
       "3 -87.657045  \n",
       "4 -87.657045  \n",
       "5 -87.657045  \n",
       "6 -87.642804  \n",
       "7 -87.657045  \n",
       "8 -87.657045  \n",
       "9 -87.657045  "
      ]
     },
<<<<<<< HEAD
     "execution_count": 8,
=======
     "execution_count": 21,
>>>>>>> bfe1312c64096e7cfc5bfcb537839ae943026483
     "metadata": {},
     "output_type": "execute_result"
    }
   ],
   "source": [
    "pd.read_json('short.json')"
   ]
  },
  {
   "cell_type": "code",
<<<<<<< HEAD
   "execution_count": 10,
   "metadata": {},
   "outputs": [
    {
     "data": {
      "text/html": [
       "<div>\n",
       "<style scoped>\n",
       "    .dataframe tbody tr th:only-of-type {\n",
       "        vertical-align: middle;\n",
       "    }\n",
       "\n",
       "    .dataframe tbody tr th {\n",
       "        vertical-align: top;\n",
       "    }\n",
       "\n",
       "    .dataframe thead th {\n",
       "        text-align: right;\n",
       "    }\n",
       "</style>\n",
       "<table border=\"1\" class=\"dataframe\">\n",
       "  <thead>\n",
       "    <tr style=\"text-align: right;\">\n",
       "      <th></th>\n",
       "      <th>Trip ID</th>\n",
       "      <th>Start Time</th>\n",
       "      <th>Distance</th>\n",
       "      <th>Duration</th>\n",
       "      <th>Start Tract</th>\n",
       "      <th>End Tract</th>\n",
       "      <th>Start Community #</th>\n",
       "      <th>End Community #</th>\n",
       "      <th>Start Community Name</th>\n",
       "      <th>End Community Name</th>\n",
       "      <th>Start Lat</th>\n",
       "      <th>Start Long</th>\n",
       "      <th>End Lat</th>\n",
       "      <th>End Long</th>\n",
       "    </tr>\n",
       "  </thead>\n",
       "  <tbody>\n",
       "    <tr>\n",
       "      <td>0</td>\n",
       "      <td>1219adef-c969-36f4-1219-adefc96936f4</td>\n",
       "      <td>08/16/2019 01:00:00 PM</td>\n",
       "      <td>772</td>\n",
       "      <td>794</td>\n",
       "      <td>17031833000</td>\n",
       "      <td>17031281900</td>\n",
       "      <td>28</td>\n",
       "      <td>28</td>\n",
       "      <td>NEAR WEST SIDE</td>\n",
       "      <td>NEAR WEST SIDE</td>\n",
       "      <td>41.885288</td>\n",
       "      <td>-87.657242</td>\n",
       "      <td>41.879248</td>\n",
       "      <td>-87.642624</td>\n",
       "    </tr>\n",
       "    <tr>\n",
       "      <td>1</td>\n",
       "      <td>12d4b35e-8c82-4a18-b77c-dd5061b17b56</td>\n",
       "      <td>07/22/2019 04:00:00 PM</td>\n",
       "      <td>817</td>\n",
       "      <td>234</td>\n",
       "      <td>17031833100</td>\n",
       "      <td>17031833100</td>\n",
       "      <td>28</td>\n",
       "      <td>28</td>\n",
       "      <td>NEAR WEST SIDE</td>\n",
       "      <td>NEAR WEST SIDE</td>\n",
       "      <td>41.879077</td>\n",
       "      <td>-87.657045</td>\n",
       "      <td>41.879077</td>\n",
       "      <td>-87.657045</td>\n",
       "    </tr>\n",
       "    <tr>\n",
       "      <td>2</td>\n",
       "      <td>15b69e57-8a22-40b1-a682-42d52fbeddcb</td>\n",
       "      <td>07/14/2019 07:00:00 PM</td>\n",
       "      <td>6538</td>\n",
       "      <td>2153</td>\n",
       "      <td>17031838100</td>\n",
       "      <td>17031838100</td>\n",
       "      <td>28</td>\n",
       "      <td>28</td>\n",
       "      <td>NEAR WEST SIDE</td>\n",
       "      <td>NEAR WEST SIDE</td>\n",
       "      <td>41.878665</td>\n",
       "      <td>-87.671681</td>\n",
       "      <td>41.878665</td>\n",
       "      <td>-87.671681</td>\n",
       "    </tr>\n",
       "    <tr>\n",
       "      <td>3</td>\n",
       "      <td>11fca7b6-346a-8436-11fc-a7b6346a8436</td>\n",
       "      <td>07/25/2019 12:00:00 PM</td>\n",
       "      <td>370</td>\n",
       "      <td>143</td>\n",
       "      <td>17031833100</td>\n",
       "      <td>17031833100</td>\n",
       "      <td>28</td>\n",
       "      <td>28</td>\n",
       "      <td>NEAR WEST SIDE</td>\n",
       "      <td>NEAR WEST SIDE</td>\n",
       "      <td>41.879077</td>\n",
       "      <td>-87.657045</td>\n",
       "      <td>41.879077</td>\n",
       "      <td>-87.657045</td>\n",
       "    </tr>\n",
       "    <tr>\n",
       "      <td>4</td>\n",
       "      <td>37d991bd-1b00-46f3-b66e-aa33c88456cc</td>\n",
       "      <td>09/20/2019 05:00:00 PM</td>\n",
       "      <td>1048</td>\n",
       "      <td>232</td>\n",
       "      <td>17031833100</td>\n",
       "      <td>17031833100</td>\n",
       "      <td>28</td>\n",
       "      <td>28</td>\n",
       "      <td>NEAR WEST SIDE</td>\n",
       "      <td>NEAR WEST SIDE</td>\n",
       "      <td>41.879077</td>\n",
       "      <td>-87.657045</td>\n",
       "      <td>41.879077</td>\n",
       "      <td>-87.657045</td>\n",
       "    </tr>\n",
       "    <tr>\n",
       "      <td>...</td>\n",
       "      <td>...</td>\n",
       "      <td>...</td>\n",
       "      <td>...</td>\n",
       "      <td>...</td>\n",
       "      <td>...</td>\n",
       "      <td>...</td>\n",
       "      <td>...</td>\n",
       "      <td>...</td>\n",
       "      <td>...</td>\n",
       "      <td>...</td>\n",
       "      <td>...</td>\n",
       "      <td>...</td>\n",
       "      <td>...</td>\n",
       "      <td>...</td>\n",
       "    </tr>\n",
       "    <tr>\n",
       "      <td>259773</td>\n",
       "      <td>d32223f7-ed6f-594c-ad96-92b5eace7207</td>\n",
       "      <td>09/25/2019 07:00:00 PM</td>\n",
       "      <td>80</td>\n",
       "      <td>119</td>\n",
       "      <td>17031242100</td>\n",
       "      <td>17031241600</td>\n",
       "      <td>24</td>\n",
       "      <td>24</td>\n",
       "      <td>WEST TOWN</td>\n",
       "      <td>WEST TOWN</td>\n",
       "      <td>41.899670</td>\n",
       "      <td>-87.669837</td>\n",
       "      <td>41.906710</td>\n",
       "      <td>-87.665328</td>\n",
       "    </tr>\n",
       "    <tr>\n",
       "      <td>259774</td>\n",
       "      <td>ee350f69-d233-5ce3-a339-da8c8c2f6d9e</td>\n",
       "      <td>07/03/2019 07:00:00 PM</td>\n",
       "      <td>1110</td>\n",
       "      <td>367</td>\n",
       "      <td>17031242300</td>\n",
       "      <td>17031243300</td>\n",
       "      <td>24</td>\n",
       "      <td>24</td>\n",
       "      <td>WEST TOWN</td>\n",
       "      <td>WEST TOWN</td>\n",
       "      <td>41.899507</td>\n",
       "      <td>-87.679600</td>\n",
       "      <td>41.892478</td>\n",
       "      <td>-87.664739</td>\n",
       "    </tr>\n",
       "    <tr>\n",
       "      <td>259775</td>\n",
       "      <td>f4350bf6-f033-416b-9a12-093676bc0413</td>\n",
       "      <td>08/15/2019 06:00:00 PM</td>\n",
       "      <td>566</td>\n",
       "      <td>113</td>\n",
       "      <td>17031241200</td>\n",
       "      <td>17031241400</td>\n",
       "      <td>24</td>\n",
       "      <td>24</td>\n",
       "      <td>WEST TOWN</td>\n",
       "      <td>WEST TOWN</td>\n",
       "      <td>41.906707</td>\n",
       "      <td>-87.684686</td>\n",
       "      <td>41.906023</td>\n",
       "      <td>-87.675310</td>\n",
       "    </tr>\n",
       "    <tr>\n",
       "      <td>259776</td>\n",
       "      <td>f644d8ce-a32d-5c1c-ad92-ca01ef86b9f9</td>\n",
       "      <td>08/30/2019 04:00:00 PM</td>\n",
       "      <td>595</td>\n",
       "      <td>301</td>\n",
       "      <td>17031242100</td>\n",
       "      <td>17031241500</td>\n",
       "      <td>24</td>\n",
       "      <td>24</td>\n",
       "      <td>WEST TOWN</td>\n",
       "      <td>WEST TOWN</td>\n",
       "      <td>41.899670</td>\n",
       "      <td>-87.669837</td>\n",
       "      <td>41.908376</td>\n",
       "      <td>-87.670937</td>\n",
       "    </tr>\n",
       "    <tr>\n",
       "      <td>259777</td>\n",
       "      <td>fe97d758-f9eb-4314-85c0-058d56019e39</td>\n",
       "      <td>07/06/2019 03:00:00 PM</td>\n",
       "      <td>1239</td>\n",
       "      <td>321</td>\n",
       "      <td>17031243200</td>\n",
       "      <td>17031242100</td>\n",
       "      <td>24</td>\n",
       "      <td>24</td>\n",
       "      <td>WEST TOWN</td>\n",
       "      <td>WEST TOWN</td>\n",
       "      <td>41.892433</td>\n",
       "      <td>-87.669624</td>\n",
       "      <td>41.899670</td>\n",
       "      <td>-87.669837</td>\n",
       "    </tr>\n",
       "  </tbody>\n",
       "</table>\n",
       "<p>259778 rows × 14 columns</p>\n",
       "</div>"
      ],
      "text/plain": [
       "                                     Trip ID              Start Time  \\\n",
       "0       1219adef-c969-36f4-1219-adefc96936f4  08/16/2019 01:00:00 PM   \n",
       "1       12d4b35e-8c82-4a18-b77c-dd5061b17b56  07/22/2019 04:00:00 PM   \n",
       "2       15b69e57-8a22-40b1-a682-42d52fbeddcb  07/14/2019 07:00:00 PM   \n",
       "3       11fca7b6-346a-8436-11fc-a7b6346a8436  07/25/2019 12:00:00 PM   \n",
       "4       37d991bd-1b00-46f3-b66e-aa33c88456cc  09/20/2019 05:00:00 PM   \n",
       "...                                      ...                     ...   \n",
       "259773  d32223f7-ed6f-594c-ad96-92b5eace7207  09/25/2019 07:00:00 PM   \n",
       "259774  ee350f69-d233-5ce3-a339-da8c8c2f6d9e  07/03/2019 07:00:00 PM   \n",
       "259775  f4350bf6-f033-416b-9a12-093676bc0413  08/15/2019 06:00:00 PM   \n",
       "259776  f644d8ce-a32d-5c1c-ad92-ca01ef86b9f9  08/30/2019 04:00:00 PM   \n",
       "259777  fe97d758-f9eb-4314-85c0-058d56019e39  07/06/2019 03:00:00 PM   \n",
       "\n",
       "        Distance  Duration  Start Tract    End Tract  Start Community #  \\\n",
       "0            772       794  17031833000  17031281900                 28   \n",
       "1            817       234  17031833100  17031833100                 28   \n",
       "2           6538      2153  17031838100  17031838100                 28   \n",
       "3            370       143  17031833100  17031833100                 28   \n",
       "4           1048       232  17031833100  17031833100                 28   \n",
       "...          ...       ...          ...          ...                ...   \n",
       "259773        80       119  17031242100  17031241600                 24   \n",
       "259774      1110       367  17031242300  17031243300                 24   \n",
       "259775       566       113  17031241200  17031241400                 24   \n",
       "259776       595       301  17031242100  17031241500                 24   \n",
       "259777      1239       321  17031243200  17031242100                 24   \n",
       "\n",
       "        End Community # Start Community Name End Community Name  Start Lat  \\\n",
       "0                    28       NEAR WEST SIDE     NEAR WEST SIDE  41.885288   \n",
       "1                    28       NEAR WEST SIDE     NEAR WEST SIDE  41.879077   \n",
       "2                    28       NEAR WEST SIDE     NEAR WEST SIDE  41.878665   \n",
       "3                    28       NEAR WEST SIDE     NEAR WEST SIDE  41.879077   \n",
       "4                    28       NEAR WEST SIDE     NEAR WEST SIDE  41.879077   \n",
       "...                 ...                  ...                ...        ...   \n",
       "259773               24            WEST TOWN          WEST TOWN  41.899670   \n",
       "259774               24            WEST TOWN          WEST TOWN  41.899507   \n",
       "259775               24            WEST TOWN          WEST TOWN  41.906707   \n",
       "259776               24            WEST TOWN          WEST TOWN  41.899670   \n",
       "259777               24            WEST TOWN          WEST TOWN  41.892433   \n",
       "\n",
       "        Start Long    End Lat   End Long  \n",
       "0       -87.657242  41.879248 -87.642624  \n",
       "1       -87.657045  41.879077 -87.657045  \n",
       "2       -87.671681  41.878665 -87.671681  \n",
       "3       -87.657045  41.879077 -87.657045  \n",
       "4       -87.657045  41.879077 -87.657045  \n",
       "...            ...        ...        ...  \n",
       "259773  -87.669837  41.906710 -87.665328  \n",
       "259774  -87.679600  41.892478 -87.664739  \n",
       "259775  -87.684686  41.906023 -87.675310  \n",
       "259776  -87.669837  41.908376 -87.670937  \n",
       "259777  -87.669624  41.899670 -87.669837  \n",
       "\n",
       "[259778 rows x 14 columns]"
      ]
     },
     "execution_count": 10,
     "metadata": {},
     "output_type": "execute_result"
    }
   ],
   "source": [
    "pd.read_json('../data/scoot.json')"
   ]
  },
  {
   "cell_type": "code",
   "execution_count": 30,
   "metadata": {},
   "outputs": [],
   "source": [
    "short_divvy = engine.execute(\"Select * from randomDivvy LIMIT 10\").fetchall()"
   ]
  },
  {
   "cell_type": "code",
   "execution_count": 33,
   "metadata": {},
   "outputs": [],
   "source": [
    "shortDivvy = []\n",
    "for result in short_divvy:\n",
    "    r = {}\n",
    "    for i, c in enumerate(colNames):\n",
    "        if i != 3 and i != 6 and i < 8:\n",
    "            r[c] = result[i]\n",
    "    shortDivvy.append(r)"
   ]
  },
  {
   "cell_type": "code",
   "execution_count": 35,
   "metadata": {},
   "outputs": [],
   "source": [
    "with open(\"divvyShort.json\",'w') as f:\n",
    "    json.dump(shortDivvy, f, ensure_ascii=False, indent=4)"
   ]
  },
  {
   "cell_type": "code",
=======
>>>>>>> bfe1312c64096e7cfc5bfcb537839ae943026483
   "execution_count": null,
   "metadata": {},
   "outputs": [],
   "source": []
  }
 ],
 "metadata": {
  "kernelspec": {
   "display_name": "Python 3",
   "language": "python",
   "name": "python3"
  },
  "language_info": {
   "codemirror_mode": {
    "name": "ipython",
    "version": 3
   },
   "file_extension": ".py",
   "mimetype": "text/x-python",
   "name": "python",
   "nbconvert_exporter": "python",
   "pygments_lexer": "ipython3",
   "version": "3.7.4"
  }
 },
 "nbformat": 4,
 "nbformat_minor": 4
}
